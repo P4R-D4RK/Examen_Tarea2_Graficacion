{
 "cells": [
  {
   "attachments": {},
   "cell_type": "markdown",
   "metadata": {},
   "source": [
    "### 2. Calcular el número de 1-pixeles"
   ]
  },
  {
   "cell_type": "code",
   "execution_count": null,
   "metadata": {},
   "outputs": [],
   "source": [
    "import plotly.graph_objects as go\n",
    "import cv2\n",
    "import numpy as np\n",
    "import matplotlib.pyplot as plt\n",
    "import skimage\n",
    "import math\n",
    "import pandas as pd\n",
    "\n",
    "names = ['apple-1.png', 'children-1.png', 'cup-1.png', 'device3-1.png', \n",
    "         'device4-1.png', 'Heart-1.png', 'personal_car-1.png', 'ray-1.png', 'sea_snake-1.png','turtle-1.png']\n",
    "\n",
    "images = []\n",
    " \n",
    "# Cargar y guardar las imagenes binarias\n",
    "for name in names:\n",
    "    fullName = 'images/' + name\n",
    "    img = np.array(cv2.imread(fullName, cv2.IMREAD_GRAYSCALE))/255\n",
    "    images.append(img.astype(int))\n",
    "\n",
    "def showImages(images):\n",
    "    fig,axs = plt.subplots(2,5,figsize=(25,10))\n",
    "    for i,img in enumerate(images):\n",
    "        row = i//5\n",
    "        col = i%5\n",
    "        axs[row,col].imshow(img,cmap = \"Greys_r\")\n",
    "        axs[row,col].axis(\"off\")\n",
    "    plt.show()\n",
    "showImages(images)\n"
   ]
  },
  {
   "cell_type": "code",
   "execution_count": null,
   "metadata": {},
   "outputs": [],
   "source": [
    "resized_images = []\n",
    "for image in images:\n",
    "    resized_image = np.array(skimage.transform.resize(image,(100,100)))\n",
    "    resized_image[resized_image != 0] = 1\n",
    "    resized_images.append(resized_image)\n",
    "\n",
    "showImages(resized_images)"
   ]
  },
  {
   "cell_type": "code",
   "execution_count": null,
   "metadata": {},
   "outputs": [],
   "source": [
    "def count_one_pixels(image):\n",
    "    return np.count_nonzero(image)\n",
    "\n",
    "n_pixels = []\n",
    "for image in resized_images:\n",
    "    n_pixels.append(count_one_pixels(image))\n",
    "\n",
    "fig = go.Figure(data=[go.Table(header=dict(values=['Imagen', 'Cantidad de 1-píxeles'], line_color='darkslategray',\n",
    "                fill_color='gray', font=dict(color='white', size=12)),\n",
    "                cells=dict(values=[names, n_pixels], line_color='darkslategray',\n",
    "                fill_color='lightgray', font=dict(color='black', size=12)))])\n",
    "fig.show()\n",
    "\n",
    "count_one_pixels(resized_images)"
   ]
  },
  {
   "attachments": {},
   "cell_type": "markdown",
   "metadata": {},
   "source": [
    "### 3. Transformaciones de escala"
   ]
  },
  {
   "cell_type": "code",
   "execution_count": null,
   "metadata": {},
   "outputs": [],
   "source": [
    "def calculate_center_of_mass(image):\n",
    "    M = np.sum(image)\n",
    "    x, y = np.meshgrid(np.arange(image.shape[1]), np.arange(image.shape[0]))\n",
    "    Xcm = np.sum(x * image) / M\n",
    "    Ycm = np.sum(y * image) / M\n",
    "    return int(np.floor(Xcm)), int(np.floor(Ycm))"
   ]
  },
  {
   "cell_type": "code",
   "execution_count": null,
   "metadata": {},
   "outputs": [],
   "source": [
    "def scale_object(image, center_of_mass, scale_factor):\n",
    "    # Crear matriz de coordenadas\n",
    "    coords = np.array(np.where(image)).T\n",
    "    \n",
    "    # Restar centro de masa a coordenadas\n",
    "    coords_centered = coords - center_of_mass\n",
    "    \n",
    "    # Escalar coordenadas\n",
    "    scaled_coords = coords_centered * scale_factor\n",
    "    \n",
    "    # Sumar centro de masa a coordenadas escaladas\n",
    "    scaled_coords += center_of_mass\n",
    "    \n",
    "    # Crear imagen vacía para la imagen escalada\n",
    "    scaled_image = np.zeros_like(image)\n",
    "    \n",
    "    # Convertir coordenadas escaladas en índices de imagen\n",
    "    indices = np.round(scaled_coords).astype(int)\n",
    "    \n",
    "    # Asegurarse de que los índices estén dentro de los límites de la imagen\n",
    "    indices[:, 0] = np.clip(indices[:, 0], 0, image.shape[1]-1)\n",
    "    indices[:, 1] = np.clip(indices[:, 1], 0, image.shape[0]-1)\n",
    "    \n",
    "    # Establecer píxeles en la imagen escalada\n",
    "    scaled_image[indices[:, 0], indices[:, 1]] = 1\n",
    "\n",
    "    scaled_image[scaled_image != 0] = 1\n",
    "    \n",
    "    return scaled_image"
   ]
  },
  {
   "cell_type": "code",
   "execution_count": null,
   "metadata": {},
   "outputs": [],
   "source": [
    "scaled_images = []\n",
    "\n",
    "min = np.min(n_pixels)\n",
    "for i in range(len(resized_images)):\n",
    "   factor = math.sqrt(min / n_pixels[i])\n",
    "   scaled_images.append(scale_object(resized_images[i], calculate_center_of_mass(resized_images[i]), factor))\n",
    "\n",
    "for image in scaled_images:\n",
    "   print(np.count_nonzero(image))\n",
    "\n",
    "showImages(scaled_images)"
   ]
  },
  {
   "attachments": {},
   "cell_type": "markdown",
   "metadata": {},
   "source": [
    "### 4. Invariante de escala siguiente, antes y después del escalamiento con p,q = 0,1 y 2\n",
    "\n",
    "$$\n",
    "\\mu_{pq} = \\sum_{x=1}^{M}\\sum_{y=1}^{N} (x - x_{cm})^p (y - y_{cm})^q\n",
    "$$\n",
    "\n",
    "$$\n",
    "\\eta_{pq} = \\frac{\\mu_{pq}}{\\mu_{00}^{\\frac{p + q}{2} + 1}}\n",
    "$$"
   ]
  },
  {
   "cell_type": "code",
   "execution_count": null,
   "metadata": {},
   "outputs": [],
   "source": [
    "def central_moment(image, p, q):\n",
    "    x_cm, y_cm = calculate_center_of_mass(image)\n",
    "    sum = 0\n",
    "    for Y in range(image.shape[0]):\n",
    "        for X in range(image.shape[1]):\n",
    "            if (image[Y, X] != 0):\n",
    "                sum += (X - x_cm) ** p * (Y - y_cm) ** q\n",
    "    return sum\n",
    "\n",
    "def normalized_moments(image, p, q):\n",
    "    mu_pq = central_moment(image, p, q)\n",
    "    mu_00 = central_moment(image, 0, 0)\n",
    "    eta_pq = mu_pq / (mu_00**((p+q)/2 + 1))\n",
    "    return eta_pq\n",
    "\n",
    "for i in range(len(resized_images)):\n",
    "    print('Imagen original', i + 1)\n",
    "    for p in range(0, 3):\n",
    "        q_values = []\n",
    "        for q in range(0, 3):\n",
    "            result = normalized_moments(resized_images[i], p, q)\n",
    "            q_values.append(result)\n",
    "        print(q_values)\n",
    "    print('Imagen escalada', i + 1)\n",
    "    for p in range(0, 3):\n",
    "        q_values = []\n",
    "        for q in range(0, 3):\n",
    "            result = normalized_moments(scaled_images[i], p, q)\n",
    "            q_values.append(result)\n",
    "        print(q_values)\n",
    "    print()"
   ]
  },
  {
   "attachments": {},
   "cell_type": "markdown",
   "metadata": {},
   "source": [
    "### 5. Obtener gráficos de las celdas (cuadrangulares) de resolución de los 1-pixeles"
   ]
  },
  {
   "cell_type": "code",
   "execution_count": null,
   "metadata": {},
   "outputs": [],
   "source": [
    "for image in scaled_images:\n",
    "    binary_image = image\n",
    "\n",
    "    # Configurar el tamaño de la figura y la cuadrícula\n",
    "    fig, ax = plt.subplots(figsize=(20,20))\n",
    "    ax.set_xticks(np.arange(-0.5, binary_image.shape[1], 1))\n",
    "    ax.set_yticks(np.arange(-0.5, binary_image.shape[0], 1))\n",
    "    ax.grid(which='both', color='black', linestyle='-', linewidth=1)\n",
    "\n",
    "    # Configurar la etiqueta para los ejes x e y\n",
    "    ax.set_xticklabels([])\n",
    "    ax.set_yticklabels([])\n",
    "\n",
    "    # Mostrar la imagen binaria en la cuadrícula\n",
    "    ax.imshow(binary_image, cmap='gray', interpolation='nearest')\n",
    "\n",
    "    plt.show()"
   ]
  },
  {
   "attachments": {},
   "cell_type": "markdown",
   "metadata": {},
   "source": [
    "### 6. Obtener el contorno de cada uno de los objetos binarios, considerando la vecindad-8"
   ]
  },
  {
   "cell_type": "code",
   "execution_count": null,
   "metadata": {},
   "outputs": [],
   "source": [
    "def get_border(image):\n",
    "    binary_image = image\n",
    "\n",
    "    border_image = np.zeros_like(binary_image)\n",
    "\n",
    "    height, width = binary_image.shape\n",
    "    for i in range(1, height - 1):\n",
    "        for j in range(1, width - 1):\n",
    "            neighbors = [binary_image[i-1, j-1], binary_image[i-1, j], binary_image[i-1, j+1],\n",
    "                        binary_image[i, j-1], binary_image[i, j+1],\n",
    "                        binary_image[i+1, j-1], binary_image[i+1, j], binary_image[i+1, j+1]]\n",
    "            if binary_image[i, j] == 1 and 0 in neighbors:\n",
    "                border_image[i, j] = 1\n",
    "\n",
    "    return border_image\n",
    "\n",
    "bordered_images = []\n",
    "\n",
    "for image in scaled_images:\n",
    "    bordered_images.append(get_border(image))\n",
    "\n",
    "showImages(bordered_images)"
   ]
  },
  {
   "attachments": {},
   "cell_type": "markdown",
   "metadata": {},
   "source": [
    "### 7. Calcular el centro de masa (𝑥𝑐𝑚, 𝑦𝑐𝑚) de cada uno de los objetos binarios. Trasladar la imagen original a una posición diferente y calcular los momentos centrales para p,q = 0,1 y 2"
   ]
  },
  {
   "cell_type": "code",
   "execution_count": null,
   "metadata": {},
   "outputs": [],
   "source": [
    "for image in scaled_images:\n",
    "    print(calculate_center_of_mass(image))"
   ]
  },
  {
   "attachments": {},
   "cell_type": "markdown",
   "metadata": {},
   "source": [
    "### Trasladar"
   ]
  },
  {
   "cell_type": "code",
   "execution_count": null,
   "metadata": {},
   "outputs": [],
   "source": [
    "def translate(image, x, y):\n",
    "    # Definir una imagen binarizada de ejemplo\n",
    "    imagen_original = image\n",
    "\n",
    "    # Crear un nuevo arreglo de numpy relleno con ceros\n",
    "    filas, columnas = imagen_original.shape\n",
    "    imagen_traslada = np.zeros((filas, columnas), dtype=np.uint8)\n",
    "\n",
    "    # Copiar los valores de la imagen original en la posición correspondiente en el nuevo arreglo\n",
    "    for i in range(filas):\n",
    "        for j in range(columnas):\n",
    "            if i + y < filas and j + x < columnas:\n",
    "                imagen_traslada[i + y, j + x] = imagen_original[i, j]\n",
    "\n",
    "    # Mostrar la imagen original y la imagen trasladada\n",
    "    return imagen_traslada\n",
    "\n",
    "translated_images = []\n",
    "\n",
    "for image in scaled_images:\n",
    "    Xcm, Ycm = calculate_center_of_mass(image)\n",
    "    translated_images.append(translate(image, int(image.shape[1]/2 - Xcm),\n",
    "                                              int(image.shape[0]/2 - Ycm)))\n",
    "\n",
    "showImages(scaled_images)\n",
    "showImages(translated_images)"
   ]
  },
  {
   "attachments": {},
   "cell_type": "markdown",
   "metadata": {},
   "source": [
    "### Momentos centrales"
   ]
  },
  {
   "cell_type": "code",
   "execution_count": null,
   "metadata": {},
   "outputs": [],
   "source": [
    "for i in range(len(scaled_images)):\n",
    "    print('Imagen original', i + 1)\n",
    "    for p in range(0, 3):\n",
    "        q_values = []\n",
    "        for q in range(0, 3):\n",
    "            result = central_moment(scaled_images[i], p, q)\n",
    "            q_values.append(result)\n",
    "        print(q_values)\n",
    "    print('Imagen transladada', i + 1)\n",
    "    for p in range(0, 3):\n",
    "        q_values = []\n",
    "        for q in range(0, 3):\n",
    "            result = central_moment(translated_images[i], p, q)\n",
    "            q_values.append(result)\n",
    "        print(q_values)\n",
    "    print()"
   ]
  },
  {
   "attachments": {},
   "cell_type": "markdown",
   "metadata": {},
   "source": [
    "### 8. Para cada objeto, realizar una rotación* con un ángulo x, y calcular los tres primeros momentos de Hu, antes y después de la rotación \n",
    "\n",
    "$$\n",
    "\\begin{matrix}\n",
    "\\varphi_1 = \\mu_{20} + \\mu_{02} \\\\\n",
    "\\varphi_2 = (\\mu_{20} - \\mu_{02})^2 + 4\\mu_{11}^2 \\\\\n",
    "\\varphi_3 = (\\mu_{30} - 3\\mu_{12})^2 + (3\\mu_{21} - \\mu_{03})^2\n",
    "\\end{matrix}\n",
    "$$\n",
    "\n",
    "> *Nota: para rotar los objetos binarios, aplicar la matriz de rotación vista en clase. Usar interpolación bilineal o algún filtro para rellenar los huecos que hayan quedado al rotar\n"
   ]
  },
  {
   "cell_type": "code",
   "execution_count": null,
   "metadata": {},
   "outputs": [],
   "source": [
    "import numpy as np\n",
    "\n",
    "def rotate_binary_image(image, angle_rad):\n",
    "    # Obtener las dimensiones de la imagen original\n",
    "    height, width = image.shape\n",
    "    \n",
    "    # Calcular las dimensiones de la imagen de destino\n",
    "    cos_theta = np.cos(angle_rad)\n",
    "    sin_theta = np.sin(angle_rad)\n",
    "    new_width = int(abs(width * cos_theta) + abs(height * sin_theta))\n",
    "    new_height = int(abs(height * cos_theta) + abs(width * sin_theta))\n",
    "\n",
    "    # Crear la matriz vacía de la imagen de destino\n",
    "    rotated_image = np.zeros((height, width), dtype=np.uint8)\n",
    "\n",
    "    # Calcular el centro de la imagen original\n",
    "    cx = width // 2\n",
    "    cy = height // 2\n",
    "\n",
    "    # Iterar sobre cada píxel en la imagen de destino\n",
    "    for x in range(width):\n",
    "        for y in range(height):\n",
    "            # Calcular las coordenadas del píxel en la imagen original\n",
    "            tx = x - width // 2\n",
    "            ty = y - height // 2\n",
    "            px = int(tx * cos_theta - ty * sin_theta) + cx\n",
    "            py = int(tx * sin_theta + ty * cos_theta) + cy\n",
    "\n",
    "            # Copiar el valor del píxel de la imagen original a la imagen de destino\n",
    "            if (px >= 0 and px < width and py >= 0 and py < height):\n",
    "                rotated_image[y,x] = image[py,px]\n",
    "\n",
    "    return rotated_image\n",
    "\n",
    "rotatedImages = []\n",
    "angle = 0.78539816\n",
    "\n",
    "for image in translated_images:\n",
    "    rotatedImages.append(rotate_binary_image(image,angle))\n",
    "\n",
    "showImages(rotatedImages)"
   ]
  },
  {
   "attachments": {},
   "cell_type": "markdown",
   "metadata": {},
   "source": [
    "### Momentos de hu"
   ]
  },
  {
   "cell_type": "code",
   "execution_count": null,
   "metadata": {},
   "outputs": [],
   "source": [
    "def calculate_moments(image):\n",
    "    # Obtener las dimensiones de la imagen\n",
    "    height, width = image.shape\n",
    "\n",
    "    # Calcular los momentos de orden cero\n",
    "    m00 = np.sum(image)\n",
    "\n",
    "    # Calcular las coordenadas del centro de masa\n",
    "    xcm = np.sum(np.multiply(np.arange(width), np.sum(image, axis=0))) / m00\n",
    "    ycm = np.sum(np.multiply(np.arange(height), np.sum(image, axis=1))) / m00\n",
    "\n",
    "    # Calcular los momentos centrales\n",
    "    mu20 = central_moment(image,2,0)\n",
    "    mu02 = central_moment(image,0,2)\n",
    "    mu11 = central_moment(image,1,1)\n",
    "\n",
    "    # Calcular los momentos normalizados\n",
    "    nu20 = normalized_moments(image,2,0)\n",
    "    nu02 = normalized_moments(image,0,2)\n",
    "    nu11 = normalized_moments(image,1,1)\n",
    "    nu30 = normalized_moments(image,3,0)\n",
    "    nu12 = normalized_moments(image,1,2)\n",
    "    nu21 = normalized_moments(image,2,1)\n",
    "    nu03 = normalized_moments(image,0,3)\n",
    "\n",
    "    # Calcular los momentos de Hu\n",
    "    phi1 = nu20 + nu02\n",
    "    phi2 = np.power(nu20 - nu02, 2) + 4 * np.power(nu11, 2)\n",
    "    phi3 = np.power(nu30 - 3 * nu12, 2) + np.power(3 * nu21 - nu03, 2)\n",
    "    return phi1, phi2, phi3\n",
    "\n",
    "\n",
    "for i in range(len(translated_images)):\n",
    "    print(\"Imagen antes de rotar\", i + 1)\n",
    "    print(calculate_moments(translated_images[i]))\n",
    "    print(\"Imagen despues de rotar\", i + 1)\n",
    "    print(calculate_moments(rotatedImages[i]))\n",
    "    print()\n"
   ]
  },
  {
   "attachments": {},
   "cell_type": "markdown",
   "metadata": {},
   "source": [
    "### 9. Calcular los ejes principales de cada uno de los objetos y alinearlos en una misma dirección, por ejemplo, el eje Y"
   ]
  },
  {
   "cell_type": "code",
   "execution_count": null,
   "metadata": {},
   "outputs": [],
   "source": [
    "def moment_matrix(image):\n",
    "    return np.array([[central_moment(image, 2, 0), central_moment(image, 1, 1)],\n",
    "            [central_moment(image, 1, 1), central_moment(image, 0, 2)]])\n",
    "\n",
    "def align_to_x_axis(moment_mat):\n",
    "    # Calculate the moments of the image with respect to the centroid\n",
    "    u20 = moment_mat[0, 0]\n",
    "    u11 = moment_mat[0, 1]\n",
    "    u02 = moment_mat[1, 1]\n",
    "    \n",
    "    # Add a small epsilon value to avoid division by zero\n",
    "    eps = 1e-8\n",
    "\n",
    "    # Calculate the angle to align with the X axis\n",
    "    phi = 0.5 * np.arctan2(2 * u11, u20 - u02 + eps)\n",
    "\n",
    "    return phi\n",
    "\n",
    "second_rotated_images = []\n",
    "\n",
    "for image in translated_images:\n",
    "    second_rotated_images.append(rotate_binary_image(image, align_to_x_axis(moment_matrix(image))))\n",
    "\n",
    "showImages(second_rotated_images)"
   ]
  },
  {
   "attachments": {},
   "cell_type": "markdown",
   "metadata": {},
   "source": [
    "### 10. Realizar una superposición entre cada pareja de objetos haciendo coincidir el centro de masa. En una tabla de 10 × 10 indicar el número de pixeles comunes (𝑃𝑐) y pixeles no comunes, 𝑃+ y 𝑃−, respectivamente, entre los 10 objetos. "
   ]
  },
  {
   "cell_type": "code",
   "execution_count": null,
   "metadata": {},
   "outputs": [],
   "source": [
    "common_pixels = np.zeros((len(rotatedImages), len(rotatedImages)))\n",
    "\n",
    "for i in range(len(rotatedImages)):\n",
    "    for j in range(len(rotatedImages)):\n",
    "        intersection = np.logical_and(rotatedImages[i], rotatedImages[j])\n",
    "        common_pixels[i,j] = np.sum(intersection)\n",
    "\n",
    "print(common_pixels)\n"
   ]
  },
  {
   "cell_type": "code",
   "execution_count": null,
   "metadata": {},
   "outputs": [],
   "source": [
    "P_plus = []\n",
    "P_minus = []\n",
    "\n",
    "for i in range(len(common_pixels)):\n",
    "    P_Plus_i = []\n",
    "    P_Minus_i = []\n",
    "    for j in range(i, len(common_pixels)):\n",
    "        P_Plus_i.append(int(common_pixels[i][i] - common_pixels[i][j]))\n",
    "        P_Minus_i.append(int(common_pixels[j][j] - common_pixels[i][j]))\n",
    "    P_plus.append(P_Plus_i)\n",
    "    P_minus.append(P_Minus_i)\n",
    "\n",
    "print(\"P+\")\n",
    "tabla_pixeles = pd.DataFrame.from_records(P_plus)\n",
    "display(tabla_pixeles)\n",
    "print()\n",
    "print(\"P-\")\n",
    "tabla_pixeles = pd.DataFrame.from_records(P_minus)\n",
    "display(tabla_pixeles)"
   ]
  },
  {
   "attachments": {},
   "cell_type": "markdown",
   "metadata": {},
   "source": [
    "### 11. Con el Algoritmo Húngaro, mover los pixeles 𝑃+ a los pixeles 𝑃− y realizar una tabla de las distancias mínimas obtenidas al comparar cada pareja de objetos."
   ]
  },
  {
   "cell_type": "code",
   "execution_count": null,
   "metadata": {},
   "outputs": [],
   "source": [
    "import numpy as np\n",
    "from scipy.optimize import linear_sum_assignment\n",
    "\n",
    "# Ejemplo de matriz de costos\n",
    "cost_matrix = np.array([[9, 7, 8, 6],\n",
    "                       [6, 5, 3, 2],\n",
    "                       [8, 8, 6, 8],\n",
    "                       [10, 6, 9, 5]])\n",
    "\n",
    "# Función para resolver el problema de asignación utilizando el algoritmo húngaro\n",
    "def hungarian_algorithm(cost_matrix):\n",
    "    # Encontrar la asignación óptima de costos\n",
    "    row_ind, col_ind = linear_sum_assignment(cost_matrix)\n",
    "    total_cost = cost_matrix[row_ind, col_ind].sum()\n",
    "    return row_ind, col_ind, total_cost\n",
    "\n",
    "# Llamar a la función y obtener los resultados\n",
    "row_ind, col_ind, total_cost = hungarian_algorithm(cost_matrix)\n",
    "\n",
    "# Imprimir los resultados\n",
    "print(\"Asignación óptima:\")\n",
    "for i in range(len(row_ind)):\n",
    "    print(\"Tarea {} asignada a Trabajador {}\".format(row_ind[i], col_ind[i]))\n",
    "print(\"Costo total de asignación: {}\".format(total_cost))\n"
   ]
  },
  {
   "cell_type": "code",
   "execution_count": null,
   "metadata": {},
   "outputs": [],
   "source": [
    "def min_distance(img1, img2):\n",
    "    p_plus = np.argwhere(np.logical_and(img1 == 1, img2 == 0))  # Pixeles P+\n",
    "    p_minus = np.argwhere(np.logical_and(img1 == 0, img2 == 1))  # Pixeles P-\n",
    "\n",
    "    n_plus = len(p_plus)\n",
    "    n_minus = len(p_minus)\n",
    "\n",
    "    if n_plus == 0 or n_minus == 0:\n",
    "        return 0\n",
    "\n",
    "    # Calculamos la matriz de costos\n",
    "    cost_matrix = np.zeros((n_plus, n_minus))\n",
    "    for i in range(n_plus):\n",
    "        for j in range(n_minus):\n",
    "            cost_matrix[i][j] = np.linalg.norm(p_plus[i] - p_minus[j])\n",
    "\n",
    "    # Resolvemos el problema de asignación usando el algoritmo húngaro\n",
    "    row_ind, col_ind = linear_sum_assignment(cost_matrix)\n",
    "\n",
    "    # Retornamos la suma de los costos mínimos\n",
    "    return cost_matrix[row_ind, col_ind].sum()\n",
    "\n",
    "costs = np.zeros((10, 10))\n",
    "\n",
    "for i in range(len(second_rotated_images)):\n",
    "    for j in range(i, (len(second_rotated_images))):\n",
    "        costs[i, j] = int(min_distance(second_rotated_images[i], second_rotated_images[j]))\n",
    "\n",
    "for cost in costs:\n",
    "    print(list(cost))"
   ]
  },
  {
   "attachments": {},
   "cell_type": "markdown",
   "metadata": {},
   "source": [
    "## 12. Analizar cada uno de los resultados y obtener conclusiones. En las conclusiones aclarar si las ecuaciones (1), (2) y (3) son invariantes ante dichas transformaciones y si el método de escalamiento, alineación por ejes principales y aplicación del Algoritmo Húngaro para mover los pixeles, es adecuado para dar una medida de similitud."
   ]
  },
  {
   "attachments": {},
   "cell_type": "markdown",
   "metadata": {},
   "source": [
    "### 1. En el primer ejercicio los 1 pixeles de una imagen binaria se calculan contando la cantidad de pixeles que tienen el valor de 1 dentro de la misma imagen y estos pixeles representan un objeto o una region en la imagen.\n",
    "\n",
    "### 2. La transformacion de escala es una operacion que realiza un cambio en el tamaño de una imagen. En este caso en donde las imagenes son binarias, fue posible realizar una transformacion utilizando algoritmos de interpolacion \n",
    "\n",
    "### 3. La invariante de una imagen es una medida que es utilizada al momento de comparar imagenes y asi se determina si las imagenes son similares o no\n",
    "\n",
    "### 4. Los graficos de celdas de resolucion de 1 pixel pueden ser obtenidos al crear un archivo con resolucion de 1 pixel y luego dividiendo el archivo en celdas individuales para luego utilizar esta division para los graficos de celdas\n",
    "\n",
    "### 5. La conectividad usando la vecindad 8 es la tecnica utilizada en el procesamiento de imagenes para asi determinar la relacion entre los pixeles adyacentes en una imagen\n",
    "\n",
    "### 6. El centro de masa es el punto en el cual se considera que toda la masa de un objeto se concentra en este punto, la traslacion es el movimiento de un objeto o una imagen de un lugar a otro sin rotacion y el momento central es la medida de la distribucion de la masa de un objeto o imagen en relacion a su centro de masa \n",
    "\n",
    "### 7. Los momentos hu son un conjunto de momentos invariantes de una imagen digital en escala de grises y se utilizan en la vision de una computadora y en la extraccion de caracteristicas de una imagen\n",
    "\n",
    "### 8. La alineacion de las imagenes implica ajustar y superponer las imagenes para que esten en la misma direccion que un objeto o imagen de referencia comun.\n",
    "\n",
    "### 9. En la superposicion de imagenes se realiza la edicion entre dos imagenes para hacer una sola imagen, en esta nueva imagen se da la ilusion de que las imagenes se superponen\n",
    "\n",
    "### 10. El algoritmo hungaro se utiliza para encontrar la asignacion optima entre dos conjuntos de elementos"
   ]
  }
 ],
 "metadata": {
  "kernelspec": {
   "display_name": "Python 3",
   "language": "python",
   "name": "python3"
  },
  "language_info": {
   "codemirror_mode": {
    "name": "ipython",
    "version": 3
   },
   "file_extension": ".py",
   "mimetype": "text/x-python",
   "name": "python",
   "nbconvert_exporter": "python",
   "pygments_lexer": "ipython3",
   "version": "3.10.6"
  },
  "orig_nbformat": 4
 },
 "nbformat": 4,
 "nbformat_minor": 2
}
