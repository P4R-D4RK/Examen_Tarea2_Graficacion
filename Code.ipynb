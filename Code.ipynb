{
 "cells": [
  {
   "attachments": {},
   "cell_type": "markdown",
   "metadata": {},
   "source": [
    "### Calcular el número de 1-pixeles"
   ]
  },
  {
   "cell_type": "code",
   "execution_count": 9,
   "metadata": {},
   "outputs": [
    {
     "name": "stdout",
     "output_type": "stream",
     "text": [
      "apple-1.png  -  28279\n",
      "bird-1.png  -  48954\n",
      "children-1.png  -  6408\n",
      "cup-1.png  -  66997\n",
      "device3-1.png  -  147730\n",
      "device4-1.png  -  84957\n",
      "Heart-1.png  -  116621\n",
      "personal_car-1.png  -  38281\n",
      "ray-1.png  -  71721\n",
      "sea_snake-1.png  -  8446\n"
     ]
    }
   ],
   "source": [
    "import cv2\n",
    "\n",
    "names = ['apple-1.png','bird-1.png', 'children-1.png', 'cup-1.png', 'device3-1.png', \n",
    "         'device4-1.png', 'Heart-1.png', 'personal_car-1.png', 'ray-1.png', 'sea_snake-1.png']\n",
    "\n",
    "images = []\n",
    "n_pixels = []\n",
    " \n",
    "# Cargar y guardar las imagenes binarias\n",
    "for name in names:\n",
    "    fullName = 'images/' + name\n",
    "    images.append(cv2.imread(fullName, cv2.IMREAD_GRAYSCALE))\n",
    "\n",
    "# Contar los píxeles con valor de 1\n",
    "for image in images:\n",
    "    n_pixels.append(cv2.countNonZero(image))\n",
    "    \n",
    "\n",
    "for i in range(len(n_pixels)):\n",
    "    print(names[i],' - ',n_pixels[i])\n",
    "\n",
    "import plotly.graph_objects as go\n",
    "\n",
    "fig = go.Figure(data=[go.Table(header=dict(values=['A Scores', 'B Scores']),\n",
    "                 cells=dict(values=[[100, 90, 80, 90], [95, 85, 75, 95]]))\n",
    "                     ])\n",
    "fig.show()\n"
   ]
  }
 ],
 "metadata": {
  "kernelspec": {
   "display_name": "Python 3",
   "language": "python",
   "name": "python3"
  },
  "language_info": {
   "codemirror_mode": {
    "name": "ipython",
    "version": 3
   },
   "file_extension": ".py",
   "mimetype": "text/x-python",
   "name": "python",
   "nbconvert_exporter": "python",
   "pygments_lexer": "ipython3",
   "version": "3.10.6"
  },
  "orig_nbformat": 4
 },
 "nbformat": 4,
 "nbformat_minor": 2
}
