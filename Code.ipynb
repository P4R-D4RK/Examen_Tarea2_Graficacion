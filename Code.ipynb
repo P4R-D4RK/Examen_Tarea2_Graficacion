{
 "cells": [
  {
   "attachments": {},
   "cell_type": "markdown",
   "metadata": {},
   "source": [
    "### Calcular el número de 1-pixeles"
   ]
  },
  {
   "cell_type": "code",
   "execution_count": 4,
   "metadata": {},
   "outputs": [
    {
     "ename": "IndexError",
     "evalue": "list assignment index out of range",
     "output_type": "error",
     "traceback": [
      "\u001b[1;31m---------------------------------------------------------------------------\u001b[0m",
      "\u001b[1;31mIndexError\u001b[0m                                Traceback (most recent call last)",
      "\u001b[1;32mc:\\Users\\villa\\Desktop\\Examen_Tarea2_Graficacion\\Code.ipynb Cell 2\u001b[0m in \u001b[0;36m<cell line: 10>\u001b[1;34m()\u001b[0m\n\u001b[0;32m     <a href='vscode-notebook-cell:/c%3A/Users/villa/Desktop/Examen_Tarea2_Graficacion/Code.ipynb#W2sZmlsZQ%3D%3D?line=9'>10</a>\u001b[0m \u001b[39mfor\u001b[39;00m i \u001b[39min\u001b[39;00m \u001b[39mrange\u001b[39m(\u001b[39mlen\u001b[39m(names)):\n\u001b[0;32m     <a href='vscode-notebook-cell:/c%3A/Users/villa/Desktop/Examen_Tarea2_Graficacion/Code.ipynb#W2sZmlsZQ%3D%3D?line=10'>11</a>\u001b[0m     fullName \u001b[39m=\u001b[39m \u001b[39m'\u001b[39m\u001b[39mimages/\u001b[39m\u001b[39m'\u001b[39m \u001b[39m+\u001b[39m names[i]\n\u001b[1;32m---> <a href='vscode-notebook-cell:/c%3A/Users/villa/Desktop/Examen_Tarea2_Graficacion/Code.ipynb#W2sZmlsZQ%3D%3D?line=11'>12</a>\u001b[0m     images[i] \u001b[39m=\u001b[39m (cv2\u001b[39m.\u001b[39mimread(fullName, cv2\u001b[39m.\u001b[39mIMREAD_GRAYSCALE))\n\u001b[0;32m     <a href='vscode-notebook-cell:/c%3A/Users/villa/Desktop/Examen_Tarea2_Graficacion/Code.ipynb#W2sZmlsZQ%3D%3D?line=13'>14</a>\u001b[0m \u001b[39m# Contar los píxeles con valor de 1\u001b[39;00m\n\u001b[0;32m     <a href='vscode-notebook-cell:/c%3A/Users/villa/Desktop/Examen_Tarea2_Graficacion/Code.ipynb#W2sZmlsZQ%3D%3D?line=14'>15</a>\u001b[0m \u001b[39mfor\u001b[39;00m i \u001b[39min\u001b[39;00m \u001b[39mrange\u001b[39m(\u001b[39mlen\u001b[39m(images)):\n",
      "\u001b[1;31mIndexError\u001b[0m: list assignment index out of range"
     ]
    }
   ],
   "source": [
    "import cv2\n",
    "\n",
    "names = ['apple-1.png','bird-1.png', 'children-1.png', 'cup-1.png', 'device3-1.png', \n",
    "         'device4-1.png', 'Heart-1.png', 'personal_car-1.png', 'ray-1.png', 'sea_snake-1.png']\n",
    "\n",
    "images = []\n",
    "n_pixels = []\n",
    " \n",
    "# Cargar y guardar las imagenes binarias\n",
    "for name in names:\n",
    "    fullName = 'images/' + name\n",
    "    images.push(cv2.imread(fullName, cv2.IMREAD_GRAYSCALE))\n",
    "\n",
    "# Contar los píxeles con valor de 1\n",
    "for image in images:\n",
    "    n_pixels.push(cv2.countNonZero(image))\n",
    "    \n",
    "\n",
    "for n in n_pixels:\n",
    "    print(n)\n"
   ]
  }
 ],
 "metadata": {
  "kernelspec": {
   "display_name": "Python 3",
   "language": "python",
   "name": "python3"
  },
  "language_info": {
   "codemirror_mode": {
    "name": "ipython",
    "version": 3
   },
   "file_extension": ".py",
   "mimetype": "text/x-python",
   "name": "python",
   "nbconvert_exporter": "python",
   "pygments_lexer": "ipython3",
   "version": "3.10.6"
  },
  "orig_nbformat": 4
 },
 "nbformat": 4,
 "nbformat_minor": 2
}
