{
 "cells": [
  {
   "attachments": {},
   "cell_type": "markdown",
   "metadata": {},
   "source": [
    "### Calcular el número de 1-pixeles"
   ]
  },
  {
   "cell_type": "code",
   "execution_count": 1,
   "metadata": {},
   "outputs": [
    {
     "name": "stdout",
     "output_type": "stream",
     "text": [
      "El objeto tiene 28279 píxeles de valor 1.\n"
     ]
    }
   ],
   "source": [
    "import cv2\n",
    "\n",
    "# cargar la imagen binaria\n",
    "img = cv2.imread('apple-1.png', cv2.IMREAD_GRAYSCALE)\n",
    "\n",
    "# contar los píxeles de valor 1\n",
    "num_pixels = cv2.countNonZero(img)\n",
    "\n",
    "print(\"El objeto tiene\", num_pixels, \"píxeles de valor 1.\")\n"
   ]
  }
 ],
 "metadata": {
  "kernelspec": {
   "display_name": "Python 3",
   "language": "python",
   "name": "python3"
  },
  "language_info": {
   "codemirror_mode": {
    "name": "ipython",
    "version": 3
   },
   "file_extension": ".py",
   "mimetype": "text/x-python",
   "name": "python",
   "nbconvert_exporter": "python",
   "pygments_lexer": "ipython3",
   "version": "3.10.6"
  },
  "orig_nbformat": 4
 },
 "nbformat": 4,
 "nbformat_minor": 2
}
